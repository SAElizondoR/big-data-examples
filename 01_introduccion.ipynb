{
 "cells": [
  {
   "cell_type": "code",
   "execution_count": 4,
   "metadata": {},
   "outputs": [],
   "source": [
    "import findspark\n",
    "import requests\n",
    "from pathlib import Path\n",
    "from pyspark.sql import SparkSession\n",
    "import pyspark.sql.functions as F"
   ]
  },
  {
   "cell_type": "code",
   "execution_count": 5,
   "metadata": {},
   "outputs": [
    {
     "name": "stderr",
     "output_type": "stream",
     "text": [
      "24/09/17 21:36:13 WARN Utils: Your hostname, andres-b460mds3h resolves to a loopback address: 127.0.1.1; using 192.168.1.76 instead (on interface enp3s0)\n",
      "24/09/17 21:36:13 WARN Utils: Set SPARK_LOCAL_IP if you need to bind to another address\n",
      "Setting default log level to \"WARN\".\n",
      "To adjust logging level use sc.setLogLevel(newLevel). For SparkR, use setLogLevel(newLevel).\n",
      "24/09/17 21:36:13 WARN NativeCodeLoader: Unable to load native-hadoop library for your platform... using builtin-java classes where applicable\n"
     ]
    },
    {
     "data": {
      "text/html": [
       "\n",
       "            <div>\n",
       "                <p><b>SparkSession - in-memory</b></p>\n",
       "                \n",
       "        <div>\n",
       "            <p><b>SparkContext</b></p>\n",
       "\n",
       "            <p><a href=\"http://192.168.1.76:4040\">Spark UI</a></p>\n",
       "\n",
       "            <dl>\n",
       "              <dt>Version</dt>\n",
       "                <dd><code>v3.5.2</code></dd>\n",
       "              <dt>Master</dt>\n",
       "                <dd><code>local[*]</code></dd>\n",
       "              <dt>AppName</dt>\n",
       "                <dd><code>Prueba</code></dd>\n",
       "            </dl>\n",
       "        </div>\n",
       "        \n",
       "            </div>\n",
       "        "
      ],
      "text/plain": [
       "<pyspark.sql.session.SparkSession at 0x7f3a9dff01a0>"
      ]
     },
     "execution_count": 5,
     "metadata": {},
     "output_type": "execute_result"
    }
   ],
   "source": [
    "# Iniciar findspark\n",
    "findspark.init()\n",
    "\n",
    "# Crear una sesión de Spark\n",
    "spark = SparkSession.builder \\\n",
    "    .appName(\"Prueba\") \\\n",
    "    .config(\"spark.sql.execution.arrow.pyspark.enabled\", \"True\") \\\n",
    "    .getOrCreate()\n",
    "spark"
   ]
  },
  {
   "cell_type": "code",
   "execution_count": 6,
   "metadata": {},
   "outputs": [
    {
     "name": "stderr",
     "output_type": "stream",
     "text": [
      "24/09/17 21:36:25 WARN GarbageCollectionMetrics: To enable non-built-in garbage collector(s) List(G1 Concurrent GC), users should configure it(them) to spark.eventLog.gcMetrics.youngGenerationGarbageCollectors or spark.eventLog.gcMetrics.oldGenerationGarbageCollectors\n",
      "                                                                                \r"
     ]
    },
    {
     "name": "stdout",
     "output_type": "stream",
     "text": [
      "root\n",
      " |-- iso_code: string (nullable = true)\n",
      " |-- continent: string (nullable = true)\n",
      " |-- location: string (nullable = true)\n",
      " |-- date: date (nullable = true)\n",
      " |-- total_cases: integer (nullable = true)\n",
      " |-- new_cases: integer (nullable = true)\n",
      " |-- new_cases_smoothed: double (nullable = true)\n",
      " |-- total_deaths: integer (nullable = true)\n",
      " |-- new_deaths: integer (nullable = true)\n",
      " |-- new_deaths_smoothed: double (nullable = true)\n",
      " |-- total_cases_per_million: double (nullable = true)\n",
      " |-- new_cases_per_million: double (nullable = true)\n",
      " |-- new_cases_smoothed_per_million: double (nullable = true)\n",
      " |-- total_deaths_per_million: double (nullable = true)\n",
      " |-- new_deaths_per_million: double (nullable = true)\n",
      " |-- new_deaths_smoothed_per_million: double (nullable = true)\n",
      " |-- reproduction_rate: double (nullable = true)\n",
      " |-- icu_patients: integer (nullable = true)\n",
      " |-- icu_patients_per_million: double (nullable = true)\n",
      " |-- hosp_patients: integer (nullable = true)\n",
      " |-- hosp_patients_per_million: double (nullable = true)\n",
      " |-- weekly_icu_admissions: integer (nullable = true)\n",
      " |-- weekly_icu_admissions_per_million: double (nullable = true)\n",
      " |-- weekly_hosp_admissions: integer (nullable = true)\n",
      " |-- weekly_hosp_admissions_per_million: double (nullable = true)\n",
      " |-- total_tests: long (nullable = true)\n",
      " |-- new_tests: integer (nullable = true)\n",
      " |-- total_tests_per_thousand: double (nullable = true)\n",
      " |-- new_tests_per_thousand: double (nullable = true)\n",
      " |-- new_tests_smoothed: double (nullable = true)\n",
      " |-- new_tests_smoothed_per_thousand: double (nullable = true)\n",
      " |-- positive_rate: double (nullable = true)\n",
      " |-- tests_per_case: double (nullable = true)\n",
      " |-- tests_units: string (nullable = true)\n",
      " |-- total_vaccinations: long (nullable = true)\n",
      " |-- people_vaccinated: long (nullable = true)\n",
      " |-- people_fully_vaccinated: long (nullable = true)\n",
      " |-- total_boosters: long (nullable = true)\n",
      " |-- new_vaccinations: integer (nullable = true)\n",
      " |-- new_vaccinations_smoothed: double (nullable = true)\n",
      " |-- total_vaccinations_per_hundred: double (nullable = true)\n",
      " |-- people_vaccinated_per_hundred: double (nullable = true)\n",
      " |-- people_fully_vaccinated_per_hundred: double (nullable = true)\n",
      " |-- total_boosters_per_hundred: double (nullable = true)\n",
      " |-- new_vaccinations_smoothed_per_million: double (nullable = true)\n",
      " |-- new_people_vaccinated_smoothed: double (nullable = true)\n",
      " |-- new_people_vaccinated_smoothed_per_hundred: double (nullable = true)\n",
      " |-- stringency_index: double (nullable = true)\n",
      " |-- population_density: double (nullable = true)\n",
      " |-- median_age: double (nullable = true)\n",
      " |-- aged_65_older: double (nullable = true)\n",
      " |-- aged_70_older: double (nullable = true)\n",
      " |-- gdp_per_capita: double (nullable = true)\n",
      " |-- extreme_poverty: double (nullable = true)\n",
      " |-- cardiovasc_death_rate: double (nullable = true)\n",
      " |-- diabetes_prevalence: double (nullable = true)\n",
      " |-- female_smokers: double (nullable = true)\n",
      " |-- male_smokers: double (nullable = true)\n",
      " |-- handwashing_facilities: double (nullable = true)\n",
      " |-- hospital_beds_per_thousand: double (nullable = true)\n",
      " |-- life_expectancy: double (nullable = true)\n",
      " |-- human_development_index: double (nullable = true)\n",
      " |-- population: long (nullable = true)\n",
      " |-- excess_mortality_cumulative_absolute: double (nullable = true)\n",
      " |-- excess_mortality_cumulative: double (nullable = true)\n",
      " |-- excess_mortality: double (nullable = true)\n",
      " |-- excess_mortality_cumulative_per_million: double (nullable = true)\n",
      "\n"
     ]
    },
    {
     "name": "stderr",
     "output_type": "stream",
     "text": [
      "24/09/17 21:36:36 WARN SparkStringUtils: Truncated the string representation of a plan since it was too large. This behavior can be adjusted by setting 'spark.sql.debug.maxToStringFields'.\n",
      "[Stage 4:>                                                          (0 + 1) / 1]\r"
     ]
    },
    {
     "name": "stdout",
     "output_type": "stream",
     "text": [
      "+-------+--------+-------------+-----------+--------------------+------------------+------------------+-----------------+------------------+-------------------+-----------------------+---------------------+------------------------------+------------------------+----------------------+-------------------------------+------------------+------------------+------------------------+------------------+-------------------------+---------------------+---------------------------------+----------------------+----------------------------------+-------------------+-----------------+------------------------+----------------------+------------------+-------------------------------+-------------------+-----------------+-------------+-------------------+--------------------+-----------------------+--------------------+------------------+-------------------------+------------------------------+-----------------------------+-----------------------------------+--------------------------+-------------------------------------+------------------------------+------------------------------------------+------------------+------------------+-----------------+-----------------+-----------------+------------------+------------------+---------------------+-------------------+------------------+-----------------+----------------------+--------------------------+-----------------+-----------------------+--------------------+------------------------------------+---------------------------+------------------+---------------------------------------+\n",
      "|summary|iso_code|    continent|   location|         total_cases|         new_cases|new_cases_smoothed|     total_deaths|        new_deaths|new_deaths_smoothed|total_cases_per_million|new_cases_per_million|new_cases_smoothed_per_million|total_deaths_per_million|new_deaths_per_million|new_deaths_smoothed_per_million| reproduction_rate|      icu_patients|icu_patients_per_million|     hosp_patients|hosp_patients_per_million|weekly_icu_admissions|weekly_icu_admissions_per_million|weekly_hosp_admissions|weekly_hosp_admissions_per_million|        total_tests|        new_tests|total_tests_per_thousand|new_tests_per_thousand|new_tests_smoothed|new_tests_smoothed_per_thousand|      positive_rate|   tests_per_case|  tests_units| total_vaccinations|   people_vaccinated|people_fully_vaccinated|      total_boosters|  new_vaccinations|new_vaccinations_smoothed|total_vaccinations_per_hundred|people_vaccinated_per_hundred|people_fully_vaccinated_per_hundred|total_boosters_per_hundred|new_vaccinations_smoothed_per_million|new_people_vaccinated_smoothed|new_people_vaccinated_smoothed_per_hundred|  stringency_index|population_density|       median_age|    aged_65_older|    aged_70_older|    gdp_per_capita|   extreme_poverty|cardiovasc_death_rate|diabetes_prevalence|    female_smokers|     male_smokers|handwashing_facilities|hospital_beds_per_thousand|  life_expectancy|human_development_index|          population|excess_mortality_cumulative_absolute|excess_mortality_cumulative|  excess_mortality|excess_mortality_cumulative_per_million|\n",
      "+-------+--------+-------------+-----------+--------------------+------------------+------------------+-----------------+------------------+-------------------+-----------------------+---------------------+------------------------------+------------------------+----------------------+-------------------------------+------------------+------------------+------------------------+------------------+-------------------------+---------------------+---------------------------------+----------------------+----------------------------------+-------------------+-----------------+------------------------+----------------------+------------------+-------------------------------+-------------------+-----------------+-------------+-------------------+--------------------+-----------------------+--------------------+------------------+-------------------------+------------------------------+-----------------------------+-----------------------------------+--------------------------+-------------------------------------+------------------------------+------------------------------------------+------------------+------------------+-----------------+-----------------+-----------------+------------------+------------------+---------------------+-------------------+------------------+-----------------+----------------------+--------------------------+-----------------+-----------------------+--------------------+------------------------------------+---------------------------+------------------+---------------------------------------+\n",
      "|  count|  429435|       402910|     429435|              411804|            410159|            408929|           411804|            410608|             409378|                 411804|               410159|                        408929|                  411804|                410608|                         409378|            184817|             39116|                   39116|             40656|                    40656|                10993|                            10993|                 24497|                             24497|              79387|            75403|                   79387|                 75403|            103965|                         103965|              95927|            94348|       106788|              85417|               81132|                  78061|               53600|             70971|                   195029|                         85417|                        81132|                              78061|                     53600|                               195029|                        192177|                                    192177|            196190|            360492|           334663|           323270|           331315|            328292|            211996|               328865|             345911|            247165|           243817|                161741|                    290689|           390299|                 319127|              429435|                               13411|                      13411|             13411|                                  13411|\n",
      "|   mean|    NULL|         NULL|       NULL|   7365292.354484173| 8017.359933586731| 8041.025764105745|81259.57427805461|  71.8521387795659|  72.06082842751708|     112096.19941984508|   122.35707291562541|            122.71385223351695|       835.5143373303811|     0.762321118926081|             0.7645298965748057|0.9114953710968177| 660.9714183454341|       15.65633704877803|3911.7415633608816|       125.98798430735927|    317.8941144364596|                9.672003092877263|     4291.723313058742|                 82.61909335837045|2.110457393801252E7|67285.41211888121|       924.2547520374873|    3.2724606448019373| 142178.3636993219|             2.8263640648295167|0.09807895587269344|2403.632807266715|         NULL|5.616979834254072E8|2.4870641074005324E8|   2.2866391007339132E8|1.5058105890156716E8| 739864.0267433177|         283875.815135185|             124.2795575822141|            53.50140881526384|                  48.68018216522968|        36.301488619402875|                    1851.477595639623|            106070.69886614944|                       0.07467839543753657| 42.87756032417509|394.07293207613117|30.45629573630861|8.683893123395386| 5.48649406154276|18904.182971561982|13.924729240175113|   264.63953369922183|  8.556055112442044|10.772437926081881|33.09775758048089|     50.64939038339037|         3.106894825741654|73.70209836561185|     0.7221778163552054|1.5203364039627418E8|                   56047.65355081652|          9.766431287748864|  10.9253530683767|                      1772.666404444113|\n",
      "| stddev|    NULL|         NULL|       NULL|4.4775816766719505E7|229664.86673059023| 86616.11129828022|441190.1382369405|1368.3229897006718|  513.6365647780618|     162240.41240534565|   1508.7785850172331|             559.7016625157934|      1134.9326412975238|     6.982532150229822|             2.5465425967129978|0.3999249955670577|2139.6155316531685|       22.78548457367932| 9845.750484741513|        151.1558096884331|    514.4129100144711|               13.573936412008104|    10919.623681068957|                 88.39674021718214|8.409869431109454E7|247734.0045698393|      2195.4284900423645|     9.033825668420944|1138214.6555840832|              7.308224750925721|0.11609736423215998|33443.66067673283|         NULL|1.842160151901692E9| 8.006460511265793E8|    7.403763390430295E8| 4.360696552695476E8|3183064.3833058323|       1922351.9038229329|             85.09804177253136|           29.379655253560514|                  29.04228237602253|         30.21820775829026|                    3117.828731152041|             786688.3872564274|                       0.17636448952844389|24.870492159098095|1785.4512808560187|9.093554097916504|6.093036775012967|4.136259577320791|19829.577836173274|20.073912014583204|   120.75669846048476|   4.93465633273048|10.761090599624625|13.85395159372269|    31.905236293065723|        2.5491677982799943|7.387914446278976|    0.14923699342545013| 6.975407716681005E8|                  156869.07563292095|         12.040658432826891|24.560705929687668|                       1991.89277045854|\n",
      "|    min|     ABW|       Africa|Afghanistan|                   0|                 0|               0.0|                0|                 0|                0.0|                    0.0|                  0.0|                           0.0|                     0.0|                   0.0|                            0.0|             -0.07|                 0|                     0.0|                 0|                      0.0|                    0|                              0.0|                     0|                               0.0|                  0|                1|                     0.0|                   0.0|               0.0|                            0.0|                0.0|              1.0|people tested|                  0|                   0|                      1|                   1|                 0|                      0.0|                           0.0|                          0.0|                                0.0|                       0.0|                                  0.0|                           0.0|                                       0.0|               0.0|              0.14|             15.1|             1.14|             0.53|            661.24|               0.1|                79.37|               0.99|               0.1|              7.7|                  1.19|                       0.1|            53.28|                   0.39|                  47|                            -37726.1|                     -44.23|            -95.92|                               -2936.45|\n",
      "|    max|     ZWE|South America|   Zimbabwe|           775866783|          44236227|         6319461.0|          7057132|            103719|            14817.0|               763598.6|            241758.23|                      34536.89|                 6601.11|                893.66|                         127.66|              5.87|             28891|                  180.68|            154497|                  1526.85|                 4838|                           224.98|                153977|                            717.08|         9214000000|         35855632|                32925.83|                531.06|       1.4769984E7|                          147.6|                1.0|        1023631.9|units unclear|        13578774356|          5631263739|             5177942957|          2817381093|          49673198|              4.3691814E7|                        410.23|                       129.07|                             126.89|                    150.47|                             117113.0|                   2.1071266E7|                                     11.71|             100.0|          20546.77|             48.2|            27.05|            18.49|          116935.6|              77.6|               724.42|              30.53|              44.0|             78.1|                 100.0|                      13.8|            86.75|                   0.96|          7975105024|                           1349776.4|                      78.08|            378.22|                               10293.52|\n",
      "+-------+--------+-------------+-----------+--------------------+------------------+------------------+-----------------+------------------+-------------------+-----------------------+---------------------+------------------------------+------------------------+----------------------+-------------------------------+------------------+------------------+------------------------+------------------+-------------------------+---------------------+---------------------------------+----------------------+----------------------------------+-------------------+-----------------+------------------------+----------------------+------------------+-------------------------------+-------------------+-----------------+-------------+-------------------+--------------------+-----------------------+--------------------+------------------+-------------------------+------------------------------+-----------------------------+-----------------------------------+--------------------------+-------------------------------------+------------------------------+------------------------------------------+------------------+------------------+-----------------+-----------------+-----------------+------------------+------------------+---------------------+-------------------+------------------+-----------------+----------------------+--------------------------+-----------------+-----------------------+--------------------+------------------------------------+---------------------------+------------------+---------------------------------------+\n",
      "\n"
     ]
    },
    {
     "name": "stderr",
     "output_type": "stream",
     "text": [
      "                                                                                \r"
     ]
    }
   ],
   "source": [
    "# Definir URL y nombre del archivo CSV\n",
    "url = (\"https://raw.githubusercontent.com/owid/covid-19-data/master/\"\n",
    "       \"public/data/owid-covid-data.csv\")\n",
    "csv_file_name = 'owid-covid-data.csv'\n",
    "\n",
    "# Descargar y guardar el archivo CSV\n",
    "response = requests.get(url)\n",
    "response.raise_for_status()\n",
    "Path(csv_file_name).write_bytes(response.content)\n",
    "\n",
    "# Leer el archivo CSV en un DataFrame de Spark\n",
    "df = spark.read.csv(csv_file_name, header=True, inferSchema=True)\n",
    "\n",
    "# Convertir la columna de fecha\n",
    "df = df.withColumn('date', F.to_date(F.col('date')))\n",
    "\n",
    "# Mostrar el esquema del DataFrame y estadísticas\n",
    "df.printSchema()\n",
    "df.describe().show()"
   ]
  },
  {
   "cell_type": "code",
   "execution_count": 7,
   "metadata": {},
   "outputs": [
    {
     "name": "stdout",
     "output_type": "stream",
     "text": [
      "+--------+-------------+-------------+----------+-----------+---------+------------------+------------+----------+-------------------+-----------------------+---------------------+------------------------------+------------------------+----------------------+-------------------------------+-----------------+------------+------------------------+-------------+-------------------------+---------------------+---------------------------------+----------------------+----------------------------------+-----------+---------+------------------------+----------------------+------------------+-------------------------------+-------------+--------------+-----------+------------------+-----------------+-----------------------+--------------+----------------+-------------------------+------------------------------+-----------------------------+-----------------------------------+--------------------------+-------------------------------------+------------------------------+------------------------------------------+----------------+------------------+----------+-------------+-------------+--------------+---------------+---------------------+-------------------+--------------+------------+----------------------+--------------------------+---------------+-----------------------+----------+------------------------------------+---------------------------+----------------+---------------------------------------+\n",
      "|iso_code|    continent|     location|      date|total_cases|new_cases|new_cases_smoothed|total_deaths|new_deaths|new_deaths_smoothed|total_cases_per_million|new_cases_per_million|new_cases_smoothed_per_million|total_deaths_per_million|new_deaths_per_million|new_deaths_smoothed_per_million|reproduction_rate|icu_patients|icu_patients_per_million|hosp_patients|hosp_patients_per_million|weekly_icu_admissions|weekly_icu_admissions_per_million|weekly_hosp_admissions|weekly_hosp_admissions_per_million|total_tests|new_tests|total_tests_per_thousand|new_tests_per_thousand|new_tests_smoothed|new_tests_smoothed_per_thousand|positive_rate|tests_per_case|tests_units|total_vaccinations|people_vaccinated|people_fully_vaccinated|total_boosters|new_vaccinations|new_vaccinations_smoothed|total_vaccinations_per_hundred|people_vaccinated_per_hundred|people_fully_vaccinated_per_hundred|total_boosters_per_hundred|new_vaccinations_smoothed_per_million|new_people_vaccinated_smoothed|new_people_vaccinated_smoothed_per_hundred|stringency_index|population_density|median_age|aged_65_older|aged_70_older|gdp_per_capita|extreme_poverty|cardiovasc_death_rate|diabetes_prevalence|female_smokers|male_smokers|handwashing_facilities|hospital_beds_per_thousand|life_expectancy|human_development_index|population|excess_mortality_cumulative_absolute|excess_mortality_cumulative|excess_mortality|excess_mortality_cumulative_per_million|\n",
      "+--------+-------------+-------------+----------+-----------+---------+------------------+------------+----------+-------------------+-----------------------+---------------------+------------------------------+------------------------+----------------------+-------------------------------+-----------------+------------+------------------------+-------------+-------------------------+---------------------+---------------------------------+----------------------+----------------------------------+-----------+---------+------------------------+----------------------+------------------+-------------------------------+-------------+--------------+-----------+------------------+-----------------+-----------------------+--------------+----------------+-------------------------+------------------------------+-----------------------------+-----------------------------------+--------------------------+-------------------------------------+------------------------------+------------------------------------------+----------------+------------------+----------+-------------+-------------+--------------+---------------+---------------------+-------------------+--------------+------------+----------------------+--------------------------+---------------+-----------------------+----------+------------------------------------+---------------------------+----------------+---------------------------------------+\n",
      "|     USA|North America|United States|2024-08-04|  103436829|     NULL|              NULL|     1193165|       619|              88.43|               302859.5|                 NULL|                          NULL|                 3493.55|                  1.81|                           0.26|             NULL|        NULL|                    NULL|         NULL|                     NULL|                 NULL|                             NULL|                  NULL|                              NULL|       NULL|     NULL|                    NULL|                  NULL|              NULL|                           NULL|         NULL|          NULL|       NULL|              NULL|             NULL|                   NULL|          NULL|            NULL|                     NULL|                          NULL|                         NULL|                               NULL|                      NULL|                                 NULL|                          NULL|                                      NULL|            NULL|             35.61|      38.3|        15.41|         9.73|      54225.45|            1.2|               151.09|              10.79|          19.1|        24.6|                  NULL|                      2.77|          78.86|                   0.93| 338289856|                                NULL|                       NULL|            NULL|                                   NULL|\n",
      "|     MEX|North America|       Mexico|2024-08-04|    7619458|      340|             48.57|      334551|         0|                0.0|               59243.24|                 2.64|                          0.38|                 2601.22|                   0.0|                            0.0|             NULL|        NULL|                    NULL|         NULL|                     NULL|                 NULL|                             NULL|                  NULL|                              NULL|       NULL|     NULL|                    NULL|                  NULL|              NULL|                           NULL|         NULL|          NULL|       NULL|              NULL|             NULL|                   NULL|          NULL|            NULL|                     NULL|                          NULL|                         NULL|                               NULL|                      NULL|                                 NULL|                          NULL|                                      NULL|            NULL|             66.44|      29.3|         6.86|         4.32|      17336.47|            2.5|               152.78|              13.06|           6.9|        21.4|                 87.85|                      1.38|          75.05|                   0.78| 127504120|                                NULL|                       NULL|            NULL|                                   NULL|\n",
      "|     USA|North America|United States|2024-08-03|  103436829|     NULL|              NULL|     1192546|         0|              88.43|               302859.5|                 NULL|                          NULL|                 3491.73|                   0.0|                           0.26|             NULL|        NULL|                    NULL|         NULL|                     NULL|                 NULL|                             NULL|                  NULL|                              NULL|       NULL|     NULL|                    NULL|                  NULL|              NULL|                           NULL|         NULL|          NULL|       NULL|              NULL|             NULL|                   NULL|          NULL|            NULL|                     NULL|                          NULL|                         NULL|                               NULL|                      NULL|                                 NULL|                          NULL|                                      NULL|            NULL|             35.61|      38.3|        15.41|         9.73|      54225.45|            1.2|               151.09|              10.79|          19.1|        24.6|                  NULL|                      2.77|          78.86|                   0.93| 338289856|                                NULL|                       NULL|            NULL|                                   NULL|\n",
      "|     MEX|North America|       Mexico|2024-08-03|    7619118|        0|            122.86|      334551|         0|               1.29|                59240.6|                  0.0|                          0.96|                 2601.22|                   0.0|                           0.01|             NULL|        NULL|                    NULL|         NULL|                     NULL|                 NULL|                             NULL|                  NULL|                              NULL|       NULL|     NULL|                    NULL|                  NULL|              NULL|                           NULL|         NULL|          NULL|       NULL|              NULL|             NULL|                   NULL|          NULL|            NULL|                     NULL|                          NULL|                         NULL|                               NULL|                      NULL|                                 NULL|                          NULL|                                      NULL|            NULL|             66.44|      29.3|         6.86|         4.32|      17336.47|            2.5|               152.78|              13.06|           6.9|        21.4|                 87.85|                      1.38|          75.05|                   0.78| 127504120|                                NULL|                       NULL|            NULL|                                   NULL|\n",
      "|     USA|North America|United States|2024-08-02|  103436829|     NULL|              NULL|     1192546|         0|              88.43|               302859.5|                 NULL|                          NULL|                 3491.73|                   0.0|                           0.26|             NULL|        NULL|                    NULL|         NULL|                     NULL|                 NULL|                             NULL|                  NULL|                              NULL|       NULL|     NULL|                    NULL|                  NULL|              NULL|                           NULL|         NULL|          NULL|       NULL|              NULL|             NULL|                   NULL|          NULL|            NULL|                     NULL|                          NULL|                         NULL|                               NULL|                      NULL|                                 NULL|                          NULL|                                      NULL|            NULL|             35.61|      38.3|        15.41|         9.73|      54225.45|            1.2|               151.09|              10.79|          19.1|        24.6|                  NULL|                      2.77|          78.86|                   0.93| 338289856|                                NULL|                       NULL|            NULL|                                   NULL|\n",
      "|     MEX|North America|       Mexico|2024-08-02|    7619118|        0|            122.86|      334551|         0|               1.29|                59240.6|                  0.0|                          0.96|                 2601.22|                   0.0|                           0.01|             NULL|        NULL|                    NULL|         NULL|                     NULL|                 NULL|                             NULL|                  NULL|                              NULL|       NULL|     NULL|                    NULL|                  NULL|              NULL|                           NULL|         NULL|          NULL|       NULL|              NULL|             NULL|                   NULL|          NULL|            NULL|                     NULL|                          NULL|                         NULL|                               NULL|                      NULL|                                 NULL|                          NULL|                                      NULL|            NULL|             66.44|      29.3|         6.86|         4.32|      17336.47|            2.5|               152.78|              13.06|           6.9|        21.4|                 87.85|                      1.38|          75.05|                   0.78| 127504120|                                NULL|                       NULL|            NULL|                                   NULL|\n",
      "|     USA|North America|United States|2024-08-01|  103436829|     NULL|              NULL|     1192546|         0|              88.43|               302859.5|                 NULL|                          NULL|                 3491.73|                   0.0|                           0.26|             NULL|        NULL|                    NULL|         NULL|                     NULL|                 NULL|                             NULL|                  NULL|                              NULL|       NULL|     NULL|                    NULL|                  NULL|              NULL|                           NULL|         NULL|          NULL|       NULL|              NULL|             NULL|                   NULL|          NULL|            NULL|                     NULL|                          NULL|                         NULL|                               NULL|                      NULL|                                 NULL|                          NULL|                                      NULL|            NULL|             35.61|      38.3|        15.41|         9.73|      54225.45|            1.2|               151.09|              10.79|          19.1|        24.6|                  NULL|                      2.77|          78.86|                   0.93| 338289856|                                NULL|                       NULL|            NULL|                                   NULL|\n",
      "|     MEX|North America|       Mexico|2024-08-01|    7619118|        0|            122.86|      334551|         0|               1.29|                59240.6|                  0.0|                          0.96|                 2601.22|                   0.0|                           0.01|             NULL|        NULL|                    NULL|         NULL|                     NULL|                 NULL|                             NULL|                  NULL|                              NULL|       NULL|     NULL|                    NULL|                  NULL|              NULL|                           NULL|         NULL|          NULL|       NULL|              NULL|             NULL|                   NULL|          NULL|            NULL|                     NULL|                          NULL|                         NULL|                               NULL|                      NULL|                                 NULL|                          NULL|                                      NULL|            NULL|             66.44|      29.3|         6.86|         4.32|      17336.47|            2.5|               152.78|              13.06|           6.9|        21.4|                 87.85|                      1.38|          75.05|                   0.78| 127504120|                                NULL|                       NULL|            NULL|                                   NULL|\n",
      "|     USA|North America|United States|2024-07-31|  103436829|     NULL|              NULL|     1192546|         0|              88.43|               302859.5|                 NULL|                          NULL|                 3491.73|                   0.0|                           0.26|             NULL|        NULL|                    NULL|         NULL|                     NULL|                 NULL|                             NULL|                  NULL|                              NULL|       NULL|     NULL|                    NULL|                  NULL|              NULL|                           NULL|         NULL|          NULL|       NULL|              NULL|             NULL|                   NULL|          NULL|            NULL|                     NULL|                          NULL|                         NULL|                               NULL|                      NULL|                                 NULL|                          NULL|                                      NULL|            NULL|             35.61|      38.3|        15.41|         9.73|      54225.45|            1.2|               151.09|              10.79|          19.1|        24.6|                  NULL|                      2.77|          78.86|                   0.93| 338289856|                                NULL|                       NULL|            NULL|                                   NULL|\n",
      "|     MEX|North America|       Mexico|2024-07-31|    7619118|        0|            122.86|      334551|         0|               1.29|                59240.6|                  0.0|                          0.96|                 2601.22|                   0.0|                           0.01|             NULL|        NULL|                    NULL|         NULL|                     NULL|                 NULL|                             NULL|                  NULL|                              NULL|       NULL|     NULL|                    NULL|                  NULL|              NULL|                           NULL|         NULL|          NULL|       NULL|              NULL|             NULL|                   NULL|          NULL|            NULL|                     NULL|                          NULL|                         NULL|                               NULL|                      NULL|                                 NULL|                          NULL|                                      NULL|            NULL|             66.44|      29.3|         6.86|         4.32|      17336.47|            2.5|               152.78|              13.06|           6.9|        21.4|                 87.85|                      1.38|          75.05|                   0.78| 127504120|                                NULL|                       NULL|            NULL|                                   NULL|\n",
      "|     USA|North America|United States|2024-07-30|  103436829|     NULL|              NULL|     1192546|         0|              88.43|               302859.5|                 NULL|                          NULL|                 3491.73|                   0.0|                           0.26|             NULL|        NULL|                    NULL|         NULL|                     NULL|                 NULL|                             NULL|                  NULL|                              NULL|       NULL|     NULL|                    NULL|                  NULL|              NULL|                           NULL|         NULL|          NULL|       NULL|              NULL|             NULL|                   NULL|          NULL|            NULL|                     NULL|                          NULL|                         NULL|                               NULL|                      NULL|                                 NULL|                          NULL|                                      NULL|            NULL|             35.61|      38.3|        15.41|         9.73|      54225.45|            1.2|               151.09|              10.79|          19.1|        24.6|                  NULL|                      2.77|          78.86|                   0.93| 338289856|                                NULL|                       NULL|            NULL|                                   NULL|\n",
      "|     MEX|North America|       Mexico|2024-07-30|    7619118|        0|            122.86|      334551|         0|               1.29|                59240.6|                  0.0|                          0.96|                 2601.22|                   0.0|                           0.01|             NULL|        NULL|                    NULL|         NULL|                     NULL|                 NULL|                             NULL|                  NULL|                              NULL|       NULL|     NULL|                    NULL|                  NULL|              NULL|                           NULL|         NULL|          NULL|       NULL|              NULL|             NULL|                   NULL|          NULL|            NULL|                     NULL|                          NULL|                         NULL|                               NULL|                      NULL|                                 NULL|                          NULL|                                      NULL|            NULL|             66.44|      29.3|         6.86|         4.32|      17336.47|            2.5|               152.78|              13.06|           6.9|        21.4|                 87.85|                      1.38|          75.05|                   0.78| 127504120|                                NULL|                       NULL|            NULL|                                   NULL|\n",
      "|     USA|North America|United States|2024-07-29|  103436829|     NULL|              NULL|     1192546|         0|              88.43|               302859.5|                 NULL|                          NULL|                 3491.73|                   0.0|                           0.26|             NULL|        NULL|                    NULL|         NULL|                     NULL|                 NULL|                             NULL|                  NULL|                              NULL|       NULL|     NULL|                    NULL|                  NULL|              NULL|                           NULL|         NULL|          NULL|       NULL|              NULL|             NULL|                   NULL|          NULL|            NULL|                     NULL|                          NULL|                         NULL|                               NULL|                      NULL|                                 NULL|                          NULL|                                      NULL|            NULL|             35.61|      38.3|        15.41|         9.73|      54225.45|            1.2|               151.09|              10.79|          19.1|        24.6|                  NULL|                      2.77|          78.86|                   0.93| 338289856|                                NULL|                       NULL|            NULL|                                   NULL|\n",
      "|     MEX|North America|       Mexico|2024-07-29|    7619118|        0|            122.86|      334551|         0|               1.29|                59240.6|                  0.0|                          0.96|                 2601.22|                   0.0|                           0.01|             NULL|        NULL|                    NULL|         NULL|                     NULL|                 NULL|                             NULL|                  NULL|                              NULL|       NULL|     NULL|                    NULL|                  NULL|              NULL|                           NULL|         NULL|          NULL|       NULL|              NULL|             NULL|                   NULL|          NULL|            NULL|                     NULL|                          NULL|                         NULL|                               NULL|                      NULL|                                 NULL|                          NULL|                                      NULL|            NULL|             66.44|      29.3|         6.86|         4.32|      17336.47|            2.5|               152.78|              13.06|           6.9|        21.4|                 87.85|                      1.38|          75.05|                   0.78| 127504120|                                NULL|                       NULL|            NULL|                                   NULL|\n",
      "|     USA|North America|United States|2024-07-28|  103436829|     NULL|              NULL|     1192546|       619|              88.43|               302859.5|                 NULL|                          NULL|                 3491.73|                  1.81|                           0.26|             NULL|        NULL|                    NULL|         NULL|                     NULL|                 NULL|                             NULL|                  NULL|                              NULL|       NULL|     NULL|                    NULL|                  NULL|              NULL|                           NULL|         NULL|          NULL|       NULL|              NULL|             NULL|                   NULL|          NULL|            NULL|                     NULL|                          NULL|                         NULL|                               NULL|                      NULL|                                 NULL|                          NULL|                                      NULL|            NULL|             35.61|      38.3|        15.41|         9.73|      54225.45|            1.2|               151.09|              10.79|          19.1|        24.6|                  NULL|                      2.77|          78.86|                   0.93| 338289856|                                NULL|                       NULL|            NULL|                                   NULL|\n",
      "|     MEX|North America|       Mexico|2024-07-28|    7619118|      860|            122.86|      334551|         9|               1.29|                59240.6|                 6.69|                          0.96|                 2601.22|                  0.07|                           0.01|             NULL|        NULL|                    NULL|         NULL|                     NULL|                 NULL|                             NULL|                  NULL|                              NULL|       NULL|     NULL|                    NULL|                  NULL|              NULL|                           NULL|         NULL|          NULL|       NULL|              NULL|             NULL|                   NULL|          NULL|            NULL|                     NULL|                          NULL|                         NULL|                               NULL|                      NULL|                                 NULL|                          NULL|                                      NULL|            NULL|             66.44|      29.3|         6.86|         4.32|      17336.47|            2.5|               152.78|              13.06|           6.9|        21.4|                 87.85|                      1.38|          75.05|                   0.78| 127504120|                                NULL|                       NULL|            NULL|                                   NULL|\n",
      "|     USA|North America|United States|2024-07-27|  103436829|     NULL|              NULL|     1191927|         0|              80.86|               302859.5|                 NULL|                          NULL|                 3489.92|                   0.0|                           0.24|             NULL|        NULL|                    NULL|         NULL|                     NULL|                 NULL|                             NULL|                  NULL|                              NULL|       NULL|     NULL|                    NULL|                  NULL|              NULL|                           NULL|         NULL|          NULL|       NULL|              NULL|             NULL|                   NULL|          NULL|            NULL|                     NULL|                          NULL|                         NULL|                               NULL|                      NULL|                                 NULL|                          NULL|                                      NULL|            NULL|             35.61|      38.3|        15.41|         9.73|      54225.45|            1.2|               151.09|              10.79|          19.1|        24.6|                  NULL|                      2.77|          78.86|                   0.93| 338289856|                                NULL|                       NULL|            NULL|                                   NULL|\n",
      "|     MEX|North America|       Mexico|2024-07-27|    7618258|        0|            137.71|      334542|         0|               1.57|               59233.91|                  0.0|                          1.07|                 2601.15|                   0.0|                           0.01|             NULL|        NULL|                    NULL|         NULL|                     NULL|                 NULL|                             NULL|                  NULL|                              NULL|       NULL|     NULL|                    NULL|                  NULL|              NULL|                           NULL|         NULL|          NULL|       NULL|              NULL|             NULL|                   NULL|          NULL|            NULL|                     NULL|                          NULL|                         NULL|                               NULL|                      NULL|                                 NULL|                          NULL|                                      NULL|            NULL|             66.44|      29.3|         6.86|         4.32|      17336.47|            2.5|               152.78|              13.06|           6.9|        21.4|                 87.85|                      1.38|          75.05|                   0.78| 127504120|                                NULL|                       NULL|            NULL|                                   NULL|\n",
      "|     USA|North America|United States|2024-07-26|  103436829|     NULL|              NULL|     1191927|         0|              80.86|               302859.5|                 NULL|                          NULL|                 3489.92|                   0.0|                           0.24|             NULL|        NULL|                    NULL|         NULL|                     NULL|                 NULL|                             NULL|                  NULL|                              NULL|       NULL|     NULL|                    NULL|                  NULL|              NULL|                           NULL|         NULL|          NULL|       NULL|              NULL|             NULL|                   NULL|          NULL|            NULL|                     NULL|                          NULL|                         NULL|                               NULL|                      NULL|                                 NULL|                          NULL|                                      NULL|            NULL|             35.61|      38.3|        15.41|         9.73|      54225.45|            1.2|               151.09|              10.79|          19.1|        24.6|                  NULL|                      2.77|          78.86|                   0.93| 338289856|                                NULL|                       NULL|            NULL|                                   NULL|\n",
      "|     MEX|North America|       Mexico|2024-07-26|    7618258|        0|            137.71|      334542|         0|               1.57|               59233.91|                  0.0|                          1.07|                 2601.15|                   0.0|                           0.01|             NULL|        NULL|                    NULL|         NULL|                     NULL|                 NULL|                             NULL|                  NULL|                              NULL|       NULL|     NULL|                    NULL|                  NULL|              NULL|                           NULL|         NULL|          NULL|       NULL|              NULL|             NULL|                   NULL|          NULL|            NULL|                     NULL|                          NULL|                         NULL|                               NULL|                      NULL|                                 NULL|                          NULL|                                      NULL|            NULL|             66.44|      29.3|         6.86|         4.32|      17336.47|            2.5|               152.78|              13.06|           6.9|        21.4|                 87.85|                      1.38|          75.05|                   0.78| 127504120|                                NULL|                       NULL|            NULL|                                   NULL|\n",
      "+--------+-------------+-------------+----------+-----------+---------+------------------+------------+----------+-------------------+-----------------------+---------------------+------------------------------+------------------------+----------------------+-------------------------------+-----------------+------------+------------------------+-------------+-------------------------+---------------------+---------------------------------+----------------------+----------------------------------+-----------+---------+------------------------+----------------------+------------------+-------------------------------+-------------+--------------+-----------+------------------+-----------------+-----------------------+--------------+----------------+-------------------------+------------------------------+-----------------------------+-----------------------------------+--------------------------+-------------------------------------+------------------------------+------------------------------------------+----------------+------------------+----------+-------------+-------------+--------------+---------------+---------------------+-------------------+--------------+------------+----------------------+--------------------------+---------------+-----------------------+----------+------------------------------------+---------------------------+----------------+---------------------------------------+\n",
      "only showing top 20 rows\n",
      "\n"
     ]
    }
   ],
   "source": [
    "# Filtrar y mostrar datos para los Estados Unidos y México,\n",
    "# ordenados por fecha descendente\n",
    "df.filter(F.col('location').isin(\"United States\", \"Mexico\")) \\\n",
    "    .orderBy(F.desc(\"date\")) \\\n",
    "    .show()"
   ]
  },
  {
   "cell_type": "code",
   "execution_count": 8,
   "metadata": {},
   "outputs": [
    {
     "name": "stdout",
     "output_type": "stream",
     "text": [
      "+-----------------------------+---------------+\n",
      "|location                     |total_new_cases|\n",
      "+-----------------------------+---------------+\n",
      "|World                        |775935057      |\n",
      "|High-income countries        |429044052      |\n",
      "|Asia                         |301564180      |\n",
      "|Europe                       |252916868      |\n",
      "|Upper-middle-income countries|251756125      |\n",
      "|European Union (27)          |185822587      |\n",
      "|North America                |124492698      |\n",
      "|United States                |103436829      |\n",
      "|China                        |99373219       |\n",
      "|Lower-middle-income countries|92019711       |\n",
      "|South America                |68811012       |\n",
      "|India                        |45041748       |\n",
      "|France                       |38997490       |\n",
      "|Germany                      |38437756       |\n",
      "|Brazil                       |37511921       |\n",
      "|South Korea                  |34571873       |\n",
      "|Japan                        |33803572       |\n",
      "|Italy                        |26781078       |\n",
      "|United Kingdom               |24974629       |\n",
      "|Russia                       |24268728       |\n",
      "+-----------------------------+---------------+\n",
      "only showing top 20 rows\n",
      "\n"
     ]
    }
   ],
   "source": [
    "# Agrupar por 'location', sumar 'new_cases' y ordenar de acuerdo con las suma\n",
    "df.groupBy(\"location\") \\\n",
    "    .agg(F.sum(\"new_cases\").alias(\"total_new_cases\")) \\\n",
    "    .orderBy(F.desc(\"total_new_cases\")) \\\n",
    "    .show(truncate=False)"
   ]
  },
  {
   "cell_type": "code",
   "execution_count": null,
   "metadata": {},
   "outputs": [],
   "source": [
    "# Detener la sesión de Spark\n",
    "spark.stop()"
   ]
  }
 ],
 "metadata": {
  "kernelspec": {
   "display_name": "Python 3",
   "language": "python",
   "name": "python3"
  },
  "language_info": {
   "codemirror_mode": {
    "name": "ipython",
    "version": 3
   },
   "file_extension": ".py",
   "mimetype": "text/x-python",
   "name": "python",
   "nbconvert_exporter": "python",
   "pygments_lexer": "ipython3",
   "version": "3.12.5"
  }
 },
 "nbformat": 4,
 "nbformat_minor": 2
}
